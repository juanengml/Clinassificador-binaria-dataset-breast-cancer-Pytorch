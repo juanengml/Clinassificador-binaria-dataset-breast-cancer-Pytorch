{
  "nbformat": 4,
  "nbformat_minor": 0,
  "metadata": {
    "colab": {
      "name": "Projeto #1 - Clinassificador binaria dataset breast cancer .ipynb",
      "provenance": []
    },
    "kernelspec": {
      "name": "python3",
      "display_name": "Python 3"
    },
    "accelerator": "GPU"
  },
  "cells": [
    {
      "cell_type": "markdown",
      "metadata": {
        "id": "L0RmULeje8mP",
        "colab_type": "text"
      },
      "source": [
        "# IMPORT LIBS "
      ]
    },
    {
      "cell_type": "code",
      "metadata": {
        "id": "mpMOZ1CDdI4r",
        "colab_type": "code",
        "colab": {
          "base_uri": "https://localhost:8080/",
          "height": 72
        },
        "outputId": "1d13913c-815d-4ea0-cb41-6b1870b599a2"
      },
      "source": [
        "import pandas as pd\n",
        "from sklearn.model_selection import train_test_split\n",
        "import numpy as np\n",
        "import seaborn as sns\n",
        "from sklearn.metrics import confusion_matrix, accuracy_score"
      ],
      "execution_count": null,
      "outputs": [
        {
          "output_type": "stream",
          "text": [
            "/usr/local/lib/python3.6/dist-packages/statsmodels/tools/_testing.py:19: FutureWarning: pandas.util.testing is deprecated. Use the functions in the public API at pandas.testing instead.\n",
            "  import pandas.util.testing as tm\n"
          ],
          "name": "stderr"
        }
      ]
    },
    {
      "cell_type": "code",
      "metadata": {
        "id": "-YpETXghds5J",
        "colab_type": "code",
        "colab": {
          "base_uri": "https://localhost:8080/",
          "height": 35
        },
        "outputId": "dd39bc4f-1a0a-47cf-b367-9483e2bedaad"
      },
      "source": [
        "import torch\n",
        "torch.__version__"
      ],
      "execution_count": null,
      "outputs": [
        {
          "output_type": "execute_result",
          "data": {
            "application/vnd.google.colaboratory.intrinsic+json": {
              "type": "string"
            },
            "text/plain": [
              "'1.4.0'"
            ]
          },
          "metadata": {
            "tags": []
          },
          "execution_count": 2
        }
      ]
    },
    {
      "cell_type": "code",
      "metadata": {
        "id": "-dfrq5G2d1pr",
        "colab_type": "code",
        "colab": {
          "base_uri": "https://localhost:8080/",
          "height": 34
        },
        "outputId": "ba050245-3a11-4c98-ea44-2ff502bd64ba"
      },
      "source": [
        "!pip install torch==1.4.0"
      ],
      "execution_count": null,
      "outputs": [
        {
          "output_type": "stream",
          "text": [
            "Requirement already satisfied: torch==1.4.0 in /usr/local/lib/python3.6/dist-packages (1.4.0)\n"
          ],
          "name": "stdout"
        }
      ]
    },
    {
      "cell_type": "code",
      "metadata": {
        "id": "9SaejIXxeLLp",
        "colab_type": "code",
        "colab": {}
      },
      "source": [
        "import torch.nn as nn "
      ],
      "execution_count": null,
      "outputs": []
    },
    {
      "cell_type": "markdown",
      "metadata": {
        "id": "NXnN_9rIfCGX",
        "colab_type": "text"
      },
      "source": [
        "# INCLUIDO DATASET"
      ]
    },
    {
      "cell_type": "code",
      "metadata": {
        "id": "vkhUhWQifGOP",
        "colab_type": "code",
        "colab": {}
      },
      "source": [
        "np.random.seed(123)"
      ],
      "execution_count": null,
      "outputs": []
    },
    {
      "cell_type": "code",
      "metadata": {
        "id": "YMeiUYmQfIAZ",
        "colab_type": "code",
        "colab": {
          "base_uri": "https://localhost:8080/",
          "height": 34
        },
        "outputId": "5d3531a9-5338-4d33-b6ba-479dcfe3bf1b"
      },
      "source": [
        "torch.manual_seed(123)"
      ],
      "execution_count": null,
      "outputs": [
        {
          "output_type": "execute_result",
          "data": {
            "text/plain": [
              "<torch._C.Generator at 0x7f009b5502f0>"
            ]
          },
          "metadata": {
            "tags": []
          },
          "execution_count": 7
        }
      ]
    },
    {
      "cell_type": "code",
      "metadata": {
        "id": "Lj2CY9D0fNCn",
        "colab_type": "code",
        "colab": {}
      },
      "source": [
        "previsores = pd.read_csv(\"/content/entradas_breast.csv\")\n",
        "classe = pd.read_csv(\"/content/saidas_breast.csv\")"
      ],
      "execution_count": null,
      "outputs": []
    },
    {
      "cell_type": "code",
      "metadata": {
        "id": "7W-fgEgThHH5",
        "colab_type": "code",
        "colab": {
          "base_uri": "https://localhost:8080/",
          "height": 226
        },
        "outputId": "4657a0fa-a46d-43a0-a524-004be2c49baf"
      },
      "source": [
        "previsores.head()"
      ],
      "execution_count": null,
      "outputs": [
        {
          "output_type": "execute_result",
          "data": {
            "text/html": [
              "<div>\n",
              "<style scoped>\n",
              "    .dataframe tbody tr th:only-of-type {\n",
              "        vertical-align: middle;\n",
              "    }\n",
              "\n",
              "    .dataframe tbody tr th {\n",
              "        vertical-align: top;\n",
              "    }\n",
              "\n",
              "    .dataframe thead th {\n",
              "        text-align: right;\n",
              "    }\n",
              "</style>\n",
              "<table border=\"1\" class=\"dataframe\">\n",
              "  <thead>\n",
              "    <tr style=\"text-align: right;\">\n",
              "      <th></th>\n",
              "      <th>radius_mean</th>\n",
              "      <th>texture_mean</th>\n",
              "      <th>perimeter_mean</th>\n",
              "      <th>area_mean</th>\n",
              "      <th>smoothness_mean</th>\n",
              "      <th>compactness_mean</th>\n",
              "      <th>concavity_mean</th>\n",
              "      <th>concave_points_mean</th>\n",
              "      <th>symmetry_mean</th>\n",
              "      <th>fractal_dimension_mean</th>\n",
              "      <th>radius_se</th>\n",
              "      <th>texture_se</th>\n",
              "      <th>perimeter_se</th>\n",
              "      <th>area_se</th>\n",
              "      <th>smoothness_se</th>\n",
              "      <th>compactness_se</th>\n",
              "      <th>concavity_se</th>\n",
              "      <th>concave_points_se</th>\n",
              "      <th>symmetry_se</th>\n",
              "      <th>fractal_dimension_se</th>\n",
              "      <th>radius_worst</th>\n",
              "      <th>texture_worst</th>\n",
              "      <th>perimeter_worst</th>\n",
              "      <th>area_worst</th>\n",
              "      <th>smoothness_worst</th>\n",
              "      <th>compactness_worst</th>\n",
              "      <th>concavity_worst</th>\n",
              "      <th>concave_points_worst</th>\n",
              "      <th>symmetry_worst</th>\n",
              "      <th>fractal_dimension_worst</th>\n",
              "    </tr>\n",
              "  </thead>\n",
              "  <tbody>\n",
              "    <tr>\n",
              "      <th>0</th>\n",
              "      <td>17.99</td>\n",
              "      <td>10.38</td>\n",
              "      <td>122.80</td>\n",
              "      <td>1001.0</td>\n",
              "      <td>0.11840</td>\n",
              "      <td>0.27760</td>\n",
              "      <td>0.3001</td>\n",
              "      <td>0.14710</td>\n",
              "      <td>0.2419</td>\n",
              "      <td>0.07871</td>\n",
              "      <td>1095.0000</td>\n",
              "      <td>0.9053</td>\n",
              "      <td>8589.0</td>\n",
              "      <td>153.40</td>\n",
              "      <td>0.006399</td>\n",
              "      <td>0.04904</td>\n",
              "      <td>0.05373</td>\n",
              "      <td>0.01587</td>\n",
              "      <td>0.03003</td>\n",
              "      <td>0.006193</td>\n",
              "      <td>25.38</td>\n",
              "      <td>17.33</td>\n",
              "      <td>184.60</td>\n",
              "      <td>2019.0</td>\n",
              "      <td>0.1622</td>\n",
              "      <td>0.6656</td>\n",
              "      <td>0.7119</td>\n",
              "      <td>0.2654</td>\n",
              "      <td>0.4601</td>\n",
              "      <td>0.11890</td>\n",
              "    </tr>\n",
              "    <tr>\n",
              "      <th>1</th>\n",
              "      <td>20.57</td>\n",
              "      <td>17.77</td>\n",
              "      <td>132.90</td>\n",
              "      <td>1326.0</td>\n",
              "      <td>0.08474</td>\n",
              "      <td>0.07864</td>\n",
              "      <td>0.0869</td>\n",
              "      <td>0.07017</td>\n",
              "      <td>0.1812</td>\n",
              "      <td>0.05667</td>\n",
              "      <td>0.5435</td>\n",
              "      <td>0.7339</td>\n",
              "      <td>3398.0</td>\n",
              "      <td>74.08</td>\n",
              "      <td>0.005225</td>\n",
              "      <td>0.01308</td>\n",
              "      <td>0.01860</td>\n",
              "      <td>0.01340</td>\n",
              "      <td>0.01389</td>\n",
              "      <td>0.003532</td>\n",
              "      <td>24.99</td>\n",
              "      <td>23.41</td>\n",
              "      <td>158.80</td>\n",
              "      <td>1956.0</td>\n",
              "      <td>0.1238</td>\n",
              "      <td>0.1866</td>\n",
              "      <td>0.2416</td>\n",
              "      <td>186.0000</td>\n",
              "      <td>275.0000</td>\n",
              "      <td>0.08902</td>\n",
              "    </tr>\n",
              "    <tr>\n",
              "      <th>2</th>\n",
              "      <td>19.69</td>\n",
              "      <td>21.25</td>\n",
              "      <td>130.00</td>\n",
              "      <td>1203.0</td>\n",
              "      <td>0.10960</td>\n",
              "      <td>0.15990</td>\n",
              "      <td>0.1974</td>\n",
              "      <td>0.12790</td>\n",
              "      <td>0.2069</td>\n",
              "      <td>0.05999</td>\n",
              "      <td>0.7456</td>\n",
              "      <td>0.7869</td>\n",
              "      <td>4585.0</td>\n",
              "      <td>94.03</td>\n",
              "      <td>0.006150</td>\n",
              "      <td>0.04006</td>\n",
              "      <td>0.03832</td>\n",
              "      <td>0.02058</td>\n",
              "      <td>0.02250</td>\n",
              "      <td>0.004571</td>\n",
              "      <td>23.57</td>\n",
              "      <td>25.53</td>\n",
              "      <td>152.50</td>\n",
              "      <td>1709.0</td>\n",
              "      <td>0.1444</td>\n",
              "      <td>0.4245</td>\n",
              "      <td>0.4504</td>\n",
              "      <td>243.0000</td>\n",
              "      <td>0.3613</td>\n",
              "      <td>0.08758</td>\n",
              "    </tr>\n",
              "    <tr>\n",
              "      <th>3</th>\n",
              "      <td>11.42</td>\n",
              "      <td>20.38</td>\n",
              "      <td>77.58</td>\n",
              "      <td>386.1</td>\n",
              "      <td>0.14250</td>\n",
              "      <td>0.28390</td>\n",
              "      <td>0.2414</td>\n",
              "      <td>0.10520</td>\n",
              "      <td>0.2597</td>\n",
              "      <td>0.09744</td>\n",
              "      <td>0.4956</td>\n",
              "      <td>1156.0000</td>\n",
              "      <td>3445.0</td>\n",
              "      <td>27.23</td>\n",
              "      <td>0.009110</td>\n",
              "      <td>0.07458</td>\n",
              "      <td>0.05661</td>\n",
              "      <td>0.01867</td>\n",
              "      <td>0.05963</td>\n",
              "      <td>0.009208</td>\n",
              "      <td>14.91</td>\n",
              "      <td>26.50</td>\n",
              "      <td>98.87</td>\n",
              "      <td>567.7</td>\n",
              "      <td>0.2098</td>\n",
              "      <td>0.8663</td>\n",
              "      <td>0.6869</td>\n",
              "      <td>0.2575</td>\n",
              "      <td>0.6638</td>\n",
              "      <td>173.00000</td>\n",
              "    </tr>\n",
              "    <tr>\n",
              "      <th>4</th>\n",
              "      <td>20.29</td>\n",
              "      <td>14.34</td>\n",
              "      <td>135.10</td>\n",
              "      <td>1297.0</td>\n",
              "      <td>0.10030</td>\n",
              "      <td>0.13280</td>\n",
              "      <td>198.0000</td>\n",
              "      <td>0.10430</td>\n",
              "      <td>0.1809</td>\n",
              "      <td>0.05883</td>\n",
              "      <td>0.7572</td>\n",
              "      <td>0.7813</td>\n",
              "      <td>5438.0</td>\n",
              "      <td>94.44</td>\n",
              "      <td>0.011490</td>\n",
              "      <td>0.02461</td>\n",
              "      <td>0.05688</td>\n",
              "      <td>0.01885</td>\n",
              "      <td>0.01756</td>\n",
              "      <td>0.005115</td>\n",
              "      <td>22.54</td>\n",
              "      <td>16.67</td>\n",
              "      <td>152.20</td>\n",
              "      <td>1575.0</td>\n",
              "      <td>0.1374</td>\n",
              "      <td>205.0000</td>\n",
              "      <td>0.4000</td>\n",
              "      <td>0.1625</td>\n",
              "      <td>0.2364</td>\n",
              "      <td>0.07678</td>\n",
              "    </tr>\n",
              "  </tbody>\n",
              "</table>\n",
              "</div>"
            ],
            "text/plain": [
              "    radius_mean   texture_mean  ...   symmetry_worst   fractal_dimension_worst\n",
              "0         17.99          10.38  ...           0.4601                   0.11890\n",
              "1         20.57          17.77  ...         275.0000                   0.08902\n",
              "2         19.69          21.25  ...           0.3613                   0.08758\n",
              "3         11.42          20.38  ...           0.6638                 173.00000\n",
              "4         20.29          14.34  ...           0.2364                   0.07678\n",
              "\n",
              "[5 rows x 30 columns]"
            ]
          },
          "metadata": {
            "tags": []
          },
          "execution_count": 14
        }
      ]
    },
    {
      "cell_type": "code",
      "metadata": {
        "id": "k-Wc6h1IhLiE",
        "colab_type": "code",
        "colab": {
          "base_uri": "https://localhost:8080/",
          "height": 424
        },
        "outputId": "5d9ccc24-2575-4bd6-e9bb-f0e6cfa25c51"
      },
      "source": [
        "classe"
      ],
      "execution_count": null,
      "outputs": [
        {
          "output_type": "execute_result",
          "data": {
            "text/html": [
              "<div>\n",
              "<style scoped>\n",
              "    .dataframe tbody tr th:only-of-type {\n",
              "        vertical-align: middle;\n",
              "    }\n",
              "\n",
              "    .dataframe tbody tr th {\n",
              "        vertical-align: top;\n",
              "    }\n",
              "\n",
              "    .dataframe thead th {\n",
              "        text-align: right;\n",
              "    }\n",
              "</style>\n",
              "<table border=\"1\" class=\"dataframe\">\n",
              "  <thead>\n",
              "    <tr style=\"text-align: right;\">\n",
              "      <th></th>\n",
              "      <th>0</th>\n",
              "    </tr>\n",
              "  </thead>\n",
              "  <tbody>\n",
              "    <tr>\n",
              "      <th>0</th>\n",
              "      <td>0</td>\n",
              "    </tr>\n",
              "    <tr>\n",
              "      <th>1</th>\n",
              "      <td>0</td>\n",
              "    </tr>\n",
              "    <tr>\n",
              "      <th>2</th>\n",
              "      <td>0</td>\n",
              "    </tr>\n",
              "    <tr>\n",
              "      <th>3</th>\n",
              "      <td>0</td>\n",
              "    </tr>\n",
              "    <tr>\n",
              "      <th>4</th>\n",
              "      <td>0</td>\n",
              "    </tr>\n",
              "    <tr>\n",
              "      <th>...</th>\n",
              "      <td>...</td>\n",
              "    </tr>\n",
              "    <tr>\n",
              "      <th>564</th>\n",
              "      <td>0</td>\n",
              "    </tr>\n",
              "    <tr>\n",
              "      <th>565</th>\n",
              "      <td>0</td>\n",
              "    </tr>\n",
              "    <tr>\n",
              "      <th>566</th>\n",
              "      <td>0</td>\n",
              "    </tr>\n",
              "    <tr>\n",
              "      <th>567</th>\n",
              "      <td>0</td>\n",
              "    </tr>\n",
              "    <tr>\n",
              "      <th>568</th>\n",
              "      <td>1</td>\n",
              "    </tr>\n",
              "  </tbody>\n",
              "</table>\n",
              "<p>569 rows × 1 columns</p>\n",
              "</div>"
            ],
            "text/plain": [
              "     0\n",
              "0    0\n",
              "1    0\n",
              "2    0\n",
              "3    0\n",
              "4    0\n",
              "..  ..\n",
              "564  0\n",
              "565  0\n",
              "566  0\n",
              "567  0\n",
              "568  1\n",
              "\n",
              "[569 rows x 1 columns]"
            ]
          },
          "metadata": {
            "tags": []
          },
          "execution_count": 11
        }
      ]
    },
    {
      "cell_type": "code",
      "metadata": {
        "id": "zpvcfLDphM9I",
        "colab_type": "code",
        "colab": {
          "base_uri": "https://localhost:8080/",
          "height": 34
        },
        "outputId": "389758b2-060e-4aa1-ff0f-9dfd3c25d3b2"
      },
      "source": [
        "previsores.shape"
      ],
      "execution_count": null,
      "outputs": [
        {
          "output_type": "execute_result",
          "data": {
            "text/plain": [
              "(569, 30)"
            ]
          },
          "metadata": {
            "tags": []
          },
          "execution_count": 13
        }
      ]
    },
    {
      "cell_type": "code",
      "metadata": {
        "id": "wS8QBrVIhPtu",
        "colab_type": "code",
        "colab": {
          "base_uri": "https://localhost:8080/",
          "height": 34
        },
        "outputId": "538bfde3-994c-4f41-f4f6-cabe7269538a"
      },
      "source": [
        "np.unique(classe)"
      ],
      "execution_count": null,
      "outputs": [
        {
          "output_type": "execute_result",
          "data": {
            "text/plain": [
              "array([0, 1])"
            ]
          },
          "metadata": {
            "tags": []
          },
          "execution_count": 15
        }
      ]
    },
    {
      "cell_type": "code",
      "metadata": {
        "id": "hzbRveh1hcSA",
        "colab_type": "code",
        "colab": {
          "base_uri": "https://localhost:8080/",
          "height": 279
        },
        "outputId": "00b5ab9c-0355-468b-9fea-cf66d53d06f4"
      },
      "source": [
        "sns.countplot(classe['0']);"
      ],
      "execution_count": null,
      "outputs": [
        {
          "output_type": "display_data",
          "data": {
            "image/png": "[encoded data removed]",
            "text/plain": [
              "<Figure size 432x288 with 1 Axes>"
            ]
          },
          "metadata": {
            "tags": [],
            "needs_background": "light"
          }
        }
      ]
    },
    {
      "cell_type": "code",
      "metadata": {
        "id": "uH6GGScehfzg",
        "colab_type": "code",
        "colab": {}
      },
      "source": [
        "# divisãão trainamento e test \n"
      ],
      "execution_count": null,
      "outputs": []
    },
    {
      "cell_type": "code",
      "metadata": {
        "id": "imHCLcauhsW4",
        "colab_type": "code",
        "colab": {}
      },
      "source": [
        "previsores_train, previsores_test, classe_train, classe_test = train_test_split(previsores,\n",
        "                                                                                classe,\n",
        "                                                                                test_size=0.25)"
      ],
      "execution_count": null,
      "outputs": []
    },
    {
      "cell_type": "code",
      "metadata": {
        "id": "VPjaCLj_hz0D",
        "colab_type": "code",
        "colab": {
          "base_uri": "https://localhost:8080/",
          "height": 34
        },
        "outputId": "92db8ffe-7757-4690-edb3-f686721c408a"
      },
      "source": [
        "previsores_train.shape"
      ],
      "execution_count": null,
      "outputs": [
        {
          "output_type": "execute_result",
          "data": {
            "text/plain": [
              "(426, 30)"
            ]
          },
          "metadata": {
            "tags": []
          },
          "execution_count": 23
        }
      ]
    },
    {
      "cell_type": "code",
      "metadata": {
        "id": "cLBoL9YtiAPR",
        "colab_type": "code",
        "colab": {
          "base_uri": "https://localhost:8080/",
          "height": 34
        },
        "outputId": "413e0dec-2111-4adc-9cfd-4d734c06b4c8"
      },
      "source": [
        "classe_train.shape"
      ],
      "execution_count": null,
      "outputs": [
        {
          "output_type": "execute_result",
          "data": {
            "text/plain": [
              "(426, 1)"
            ]
          },
          "metadata": {
            "tags": []
          },
          "execution_count": 24
        }
      ]
    },
    {
      "cell_type": "code",
      "metadata": {
        "id": "957GQjPtiC6c",
        "colab_type": "code",
        "colab": {
          "base_uri": "https://localhost:8080/",
          "height": 34
        },
        "outputId": "7d94d89c-736a-49f1-e342-4db5de48d87b"
      },
      "source": [
        "classe_train.shape"
      ],
      "execution_count": null,
      "outputs": [
        {
          "output_type": "execute_result",
          "data": {
            "text/plain": [
              "(426, 1)"
            ]
          },
          "metadata": {
            "tags": []
          },
          "execution_count": 25
        }
      ]
    },
    {
      "cell_type": "code",
      "metadata": {
        "id": "tmq6mT8ZiFPy",
        "colab_type": "code",
        "colab": {
          "base_uri": "https://localhost:8080/",
          "height": 34
        },
        "outputId": "be170a97-5988-4d6b-adf1-3f337e351f06"
      },
      "source": [
        "previsores_test.shape"
      ],
      "execution_count": null,
      "outputs": [
        {
          "output_type": "execute_result",
          "data": {
            "text/plain": [
              "(143, 30)"
            ]
          },
          "metadata": {
            "tags": []
          },
          "execution_count": 26
        }
      ]
    },
    {
      "cell_type": "code",
      "metadata": {
        "id": "rDSWK_b7iH7S",
        "colab_type": "code",
        "colab": {
          "base_uri": "https://localhost:8080/",
          "height": 34
        },
        "outputId": "c81af583-40b6-4430-96f6-5031049d6aa9"
      },
      "source": [
        "classe_test.shape"
      ],
      "execution_count": null,
      "outputs": [
        {
          "output_type": "execute_result",
          "data": {
            "text/plain": [
              "(143, 1)"
            ]
          },
          "metadata": {
            "tags": []
          },
          "execution_count": 27
        }
      ]
    },
    {
      "cell_type": "code",
      "metadata": {
        "id": "dzs0LE2YiK7-",
        "colab_type": "code",
        "colab": {}
      },
      "source": [
        "# Transformaçãão dos dados para tensorespe"
      ],
      "execution_count": null,
      "outputs": []
    },
    {
      "cell_type": "code",
      "metadata": {
        "id": "Srqn489Hib0l",
        "colab_type": "code",
        "colab": {
          "base_uri": "https://localhost:8080/",
          "height": 34
        },
        "outputId": "488f11cb-7232-4b69-fe30-e6f885c5981f"
      },
      "source": [
        "type(previsores_train)"
      ],
      "execution_count": null,
      "outputs": [
        {
          "output_type": "execute_result",
          "data": {
            "text/plain": [
              "pandas.core.frame.DataFrame"
            ]
          },
          "metadata": {
            "tags": []
          },
          "execution_count": 29
        }
      ]
    },
    {
      "cell_type": "code",
      "metadata": {
        "id": "NjnDi32Dif8b",
        "colab_type": "code",
        "colab": {}
      },
      "source": [
        "previsores_train = torch.tensor(np.array(previsores_train),dtype=torch.float)\n",
        "classe_train = torch.tensor(np.array(classe_train), dtype=float) \n"
      ],
      "execution_count": null,
      "outputs": []
    },
    {
      "cell_type": "code",
      "metadata": {
        "id": "bUH8EZvBjOdq",
        "colab_type": "code",
        "colab": {
          "base_uri": "https://localhost:8080/",
          "height": 34
        },
        "outputId": "4899d3b5-7e13-446a-8300-327ae491acbd"
      },
      "source": [
        "type(previsores_train)"
      ],
      "execution_count": null,
      "outputs": [
        {
          "output_type": "execute_result",
          "data": {
            "text/plain": [
              "torch.Tensor"
            ]
          },
          "metadata": {
            "tags": []
          },
          "execution_count": 32
        }
      ]
    },
    {
      "cell_type": "code",
      "metadata": {
        "id": "HTkVzVVDjTPh",
        "colab_type": "code",
        "colab": {
          "base_uri": "https://localhost:8080/",
          "height": 34
        },
        "outputId": "843881a5-6655-46e5-f65f-d0587ffa587c"
      },
      "source": [
        "type(classe_train)"
      ],
      "execution_count": null,
      "outputs": [
        {
          "output_type": "execute_result",
          "data": {
            "text/plain": [
              "torch.Tensor"
            ]
          },
          "metadata": {
            "tags": []
          },
          "execution_count": 33
        }
      ]
    },
    {
      "cell_type": "code",
      "metadata": {
        "id": "V_ac-k7SjWdt",
        "colab_type": "code",
        "colab": {}
      },
      "source": [
        "# criando dataset - juntando previsores_train + classe_train"
      ],
      "execution_count": null,
      "outputs": []
    },
    {
      "cell_type": "code",
      "metadata": {
        "id": "a3S29cZlj5JZ",
        "colab_type": "code",
        "colab": {}
      },
      "source": [
        "dataset = torch.utils.data.TensorDataset(previsores_train, classe_train)"
      ],
      "execution_count": null,
      "outputs": []
    },
    {
      "cell_type": "code",
      "metadata": {
        "id": "tL9T_mBikCsr",
        "colab_type": "code",
        "colab": {
          "base_uri": "https://localhost:8080/",
          "height": 34
        },
        "outputId": "a2cbf02d-d7c8-40e3-e439-78adf6e27ffb"
      },
      "source": [
        "type(dataset)"
      ],
      "execution_count": null,
      "outputs": [
        {
          "output_type": "execute_result",
          "data": {
            "text/plain": [
              "torch.utils.data.dataset.TensorDataset"
            ]
          },
          "metadata": {
            "tags": []
          },
          "execution_count": 39
        }
      ]
    },
    {
      "cell_type": "code",
      "metadata": {
        "id": "W_7KCxu6kGHE",
        "colab_type": "code",
        "colab": {}
      },
      "source": [
        "# Mini - batch iterações - para ajustar os pesos \n",
        "train_loader = torch.utils.data.DataLoader(dataset, batch_size=10, shuffle=True)"
      ],
      "execution_count": null,
      "outputs": []
    },
    {
      "cell_type": "markdown",
      "metadata": {
        "id": "qAmQJ2c0kqVD",
        "colab_type": "text"
      },
      "source": [
        "# Construção do Modelo"
      ]
    },
    {
      "cell_type": "code",
      "metadata": {
        "id": "X3lGFb1vkd1d",
        "colab_type": "code",
        "colab": {}
      },
      "source": [
        "# 30 neuronios camada de entrada = por que temoass 30 colunas de caracteristicas do previsores.shape"
      ],
      "execution_count": null,
      "outputs": []
    },
    {
      "cell_type": "code",
      "metadata": {
        "id": "o6VC2vTilBh0",
        "colab_type": "code",
        "colab": {}
      },
      "source": [
        "# camadas ocultas 16 neuronios -> 16 neuronios -> 1 saida"
      ],
      "execution_count": null,
      "outputs": []
    },
    {
      "cell_type": "code",
      "metadata": {
        "id": "DYDlmri3lL1h",
        "colab_type": "code",
        "colab": {}
      },
      "source": [
        "# (entrada + saida) / 2 = (30 + 1) / 2 = 16"
      ],
      "execution_count": null,
      "outputs": []
    },
    {
      "cell_type": "code",
      "metadata": {
        "id": "-gBaJYJNlX59",
        "colab_type": "code",
        "colab": {}
      },
      "source": [
        "clf = nn.Sequential(\n",
        "    nn.Linear(in_features=30, out_features=16), # camada tipo densa os 30 neu ronios ligam na camada primaria\n",
        "    nn.ReLU(), # CAMADA DE ATIVACAO\n",
        "    nn.Linear(16,16),\n",
        "    nn.ReLU(),\n",
        "    nn.Linear(16,1),\n",
        "    nn.Sigmoid()\n",
        ")"
      ],
      "execution_count": null,
      "outputs": []
    },
    {
      "cell_type": "code",
      "metadata": {
        "id": "Al6rczMkmG8q",
        "colab_type": "code",
        "colab": {
          "base_uri": "https://localhost:8080/",
          "height": 156
        },
        "outputId": "802e6b4a-0f6f-46e7-cbc9-7c8e6a49a80e"
      },
      "source": [
        "clf.parameters"
      ],
      "execution_count": null,
      "outputs": [
        {
          "output_type": "execute_result",
          "data": {
            "text/plain": [
              "<bound method Module.parameters of Sequential(\n",
              "  (0): Linear(in_features=30, out_features=16, bias=True)\n",
              "  (1): ReLU()\n",
              "  (2): Linear(in_features=16, out_features=16, bias=True)\n",
              "  (3): ReLU()\n",
              "  (4): Linear(in_features=16, out_features=1, bias=True)\n",
              "  (5): Sigmoid()\n",
              ")>"
            ]
          },
          "metadata": {
            "tags": []
          },
          "execution_count": 45
        }
      ]
    },
    {
      "cell_type": "code",
      "metadata": {
        "id": "gpirPZNVmJGp",
        "colab_type": "code",
        "colab": {}
      },
      "source": [
        "# Criando Funcao de Erro"
      ],
      "execution_count": null,
      "outputs": []
    },
    {
      "cell_type": "code",
      "metadata": {
        "id": "dnbSSfVhmOsP",
        "colab_type": "code",
        "colab": {}
      },
      "source": [
        "criterio = nn.BCELoss()"
      ],
      "execution_count": null,
      "outputs": []
    },
    {
      "cell_type": "code",
      "metadata": {
        "id": "0VfL34inmWNP",
        "colab_type": "code",
        "colab": {}
      },
      "source": [
        "otimizador = torch.optim.Adam(clf.parameters(), lr=0.001, weight_decay=0.0001)"
      ],
      "execution_count": null,
      "outputs": []
    },
    {
      "cell_type": "markdown",
      "metadata": {
        "id": "kTckTtJ5muVr",
        "colab_type": "text"
      },
      "source": [
        "# Training Model "
      ]
    },
    {
      "cell_type": "code",
      "metadata": {
        "id": "GYOoDGrIms1f",
        "colab_type": "code",
        "colab": {
          "base_uri": "https://localhost:8080/",
          "height": 1000
        },
        "outputId": "09553c8f-48bf-461b-f681-292460b9ff63"
      },
      "source": [
        "for epoch in range(100):\n",
        "  running_loss = 0.\n",
        "  for data in train_loader:\n",
        "    inputs, labels = data \n",
        "\n",
        "    otimizador.zero_grad()\n",
        "\n",
        "    outputs = clf(inputs)\n",
        "    #print(type(labels))\n",
        "    #print(outputs)\n",
        "    loss = criterio(outputs, labels.float())\n",
        "    #print(loss)\n",
        "    loss.backward()\n",
        "\n",
        "    otimizador.step()\n",
        "\n",
        "    running_loss += loss.item()\n",
        "\n",
        "  print(\"Epoca %3d: perda: %.5f\" % (epoch+1, running_loss / len(train_loader)))\n",
        "  "
      ],
      "execution_count": null,
      "outputs": [
        {
          "output_type": "stream",
          "text": [
            "Epoca   1: perda: 4.67766\n",
            "Epoca   2: perda: 4.21959\n",
            "Epoca   3: perda: 0.90396\n",
            "Epoca   4: perda: 0.79957\n",
            "Epoca   5: perda: 0.69469\n",
            "Epoca   6: perda: 0.47633\n",
            "Epoca   7: perda: 0.39199\n",
            "Epoca   8: perda: 0.36735\n",
            "Epoca   9: perda: 0.36717\n",
            "Epoca  10: perda: 0.34331\n",
            "Epoca  11: perda: 0.34520\n",
            "Epoca  12: perda: 0.30151\n",
            "Epoca  13: perda: 0.29856\n",
            "Epoca  14: perda: 0.29430\n",
            "Epoca  15: perda: 0.31687\n",
            "Epoca  16: perda: 0.27297\n",
            "Epoca  17: perda: 0.29112\n",
            "Epoca  18: perda: 0.29884\n",
            "Epoca  19: perda: 0.26657\n",
            "Epoca  20: perda: 0.26842\n",
            "Epoca  21: perda: 0.35753\n",
            "Epoca  22: perda: 0.26283\n",
            "Epoca  23: perda: 0.24287\n",
            "Epoca  24: perda: 0.22657\n",
            "Epoca  25: perda: 0.26343\n",
            "Epoca  26: perda: 0.24316\n",
            "Epoca  27: perda: 0.21464\n",
            "Epoca  28: perda: 0.22009\n",
            "Epoca  29: perda: 0.21598\n",
            "Epoca  30: perda: 0.23237\n",
            "Epoca  31: perda: 0.20116\n",
            "Epoca  32: perda: 0.21488\n",
            "Epoca  33: perda: 0.17758\n",
            "Epoca  34: perda: 0.25330\n",
            "Epoca  35: perda: 0.18984\n",
            "Epoca  36: perda: 0.19328\n",
            "Epoca  37: perda: 0.25022\n",
            "Epoca  38: perda: 0.18981\n",
            "Epoca  39: perda: 0.20102\n",
            "Epoca  40: perda: 0.21024\n",
            "Epoca  41: perda: 0.21357\n",
            "Epoca  42: perda: 0.23050\n",
            "Epoca  43: perda: 0.19363\n",
            "Epoca  44: perda: 0.17052\n",
            "Epoca  45: perda: 0.17552\n",
            "Epoca  46: perda: 0.21326\n",
            "Epoca  47: perda: 0.20522\n",
            "Epoca  48: perda: 0.15713\n",
            "Epoca  49: perda: 0.18656\n",
            "Epoca  50: perda: 0.15438\n",
            "Epoca  51: perda: 0.18103\n",
            "Epoca  52: perda: 0.21465\n",
            "Epoca  53: perda: 0.19695\n",
            "Epoca  54: perda: 0.17221\n",
            "Epoca  55: perda: 0.14616\n",
            "Epoca  56: perda: 0.15552\n",
            "Epoca  57: perda: 0.20984\n",
            "Epoca  58: perda: 0.15445\n",
            "Epoca  59: perda: 0.14796\n",
            "Epoca  60: perda: 0.14545\n",
            "Epoca  61: perda: 0.17643\n",
            "Epoca  62: perda: 0.20868\n",
            "Epoca  63: perda: 0.14316\n",
            "Epoca  64: perda: 0.17246\n",
            "Epoca  65: perda: 0.17028\n",
            "Epoca  66: perda: 0.16718\n",
            "Epoca  67: perda: 0.13778\n",
            "Epoca  68: perda: 0.15233\n",
            "Epoca  69: perda: 0.15177\n",
            "Epoca  70: perda: 0.13890\n",
            "Epoca  71: perda: 0.14242\n",
            "Epoca  72: perda: 0.15671\n",
            "Epoca  73: perda: 0.16054\n",
            "Epoca  74: perda: 0.13465\n",
            "Epoca  75: perda: 0.13472\n",
            "Epoca  76: perda: 0.14284\n",
            "Epoca  77: perda: 0.16167\n",
            "Epoca  78: perda: 0.16691\n",
            "Epoca  79: perda: 0.13704\n",
            "Epoca  80: perda: 0.14321\n",
            "Epoca  81: perda: 0.16338\n",
            "Epoca  82: perda: 0.13797\n",
            "Epoca  83: perda: 0.14370\n",
            "Epoca  84: perda: 0.17958\n",
            "Epoca  85: perda: 0.12307\n",
            "Epoca  86: perda: 0.22060\n",
            "Epoca  87: perda: 0.15659\n",
            "Epoca  88: perda: 0.12500\n",
            "Epoca  89: perda: 0.12021\n",
            "Epoca  90: perda: 0.13297\n",
            "Epoca  91: perda: 0.11672\n",
            "Epoca  92: perda: 0.13527\n",
            "Epoca  93: perda: 0.14275\n",
            "Epoca  94: perda: 0.12321\n",
            "Epoca  95: perda: 0.13723\n",
            "Epoca  96: perda: 0.15370\n",
            "Epoca  97: perda: 0.14246\n",
            "Epoca  98: perda: 0.12846\n",
            "Epoca  99: perda: 0.14920\n",
            "Epoca 100: perda: 0.11538\n"
          ],
          "name": "stdout"
        }
      ]
    },
    {
      "cell_type": "markdown",
      "metadata": {
        "id": "SprA_PGvrof8",
        "colab_type": "text"
      },
      "source": [
        "## Visualizar os Pesos Gerados"
      ]
    },
    {
      "cell_type": "code",
      "metadata": {
        "id": "OQT3dIagntRv",
        "colab_type": "code",
        "colab": {}
      },
      "source": [
        "params = list(clf.parameters())"
      ],
      "execution_count": null,
      "outputs": []
    },
    {
      "cell_type": "code",
      "metadata": {
        "id": "EfYTJ80Kr2hy",
        "colab_type": "code",
        "colab": {
          "base_uri": "https://localhost:8080/",
          "height": 1000
        },
        "outputId": "3718e10f-b842-4018-92fc-f1526c5c7e9d"
      },
      "source": [
        "params"
      ],
      "execution_count": null,
      "outputs": [
        {
          "output_type": "execute_result",
          "data": {
            "text/plain": [
              "[Parameter containing:\n",
              " tensor([[-7.3099e-02,  3.2508e-02, -1.0077e-01,  4.1542e-02, -1.5112e-01,\n",
              "           9.3394e-02, -1.3462e-01, -1.4195e-01, -2.2300e-01,  1.2692e-01,\n",
              "          -6.4502e-02,  4.0595e-02, -1.2715e-01, -1.5483e-01, -7.0470e-03,\n",
              "          -2.1257e-02, -2.3147e-01,  9.0478e-02, -3.1093e-01, -4.7845e-03,\n",
              "           1.3152e-01,  5.3378e-02,  2.3946e-02,  1.3277e-01,  5.6602e-01,\n",
              "           7.2039e-02, -2.2418e-01,  3.7233e-02,  3.3794e-01, -5.7262e-02],\n",
              "         [ 1.8980e-01,  2.0786e-01,  2.7955e-01,  9.5497e-02, -1.3875e-01,\n",
              "          -1.1773e-01, -9.9748e-02, -7.7605e-02,  1.7262e-02,  3.0543e-01,\n",
              "          -3.2964e-02, -1.1356e-01, -5.9616e-03,  1.7653e-01, -1.9988e-03,\n",
              "          -7.4942e-02, -3.7475e-02,  1.7834e-01,  2.2333e-01, -1.2201e-02,\n",
              "           8.9084e-02,  6.9207e-02,  1.8391e-01,  1.3413e-02, -3.0889e-03,\n",
              "          -2.2502e-01, -1.7023e-01,  9.6785e-02, -7.0221e-02, -1.7530e-01],\n",
              "         [ 1.1357e-02,  1.5418e-02, -2.4489e-01, -1.2085e-01, -7.1887e-03,\n",
              "           1.0318e-01,  4.6881e-02,  3.2371e-02, -8.3355e-02,  3.2533e-01,\n",
              "           1.6758e-01,  1.0900e-01, -1.3962e-01, -2.5505e-02,  5.0527e-04,\n",
              "          -2.8272e-01,  7.8970e-02,  1.5608e-03,  4.3543e-01, -4.1230e-04,\n",
              "           7.4345e-02, -1.4139e-01, -2.7694e-02, -1.1680e-03, -3.2447e-01,\n",
              "          -2.1986e-01, -1.7609e-01,  1.4873e-01,  9.4160e-02, -1.2413e-02],\n",
              "         [-3.7523e-01,  6.1829e-02, -1.5918e-01,  8.2115e-02, -1.9801e-01,\n",
              "           4.9650e-02,  1.0311e-02, -2.2209e-02,  2.5708e-02, -2.4040e-01,\n",
              "           1.9711e-01, -1.4641e-01,  3.9446e-02,  4.1803e-02,  1.5889e-04,\n",
              "           2.2765e-02,  2.4492e-02,  1.7567e-02,  5.6325e-02,  6.0537e-03,\n",
              "           7.7319e-02, -1.3955e-01, -8.3391e-02,  6.0243e-03,  2.5043e-01,\n",
              "           6.7341e-02,  3.2735e-03,  2.4240e-01,  1.5056e-01,  4.5761e-01],\n",
              "         [-3.8381e-01, -7.5588e-02, -9.4083e-02, -1.0299e-01,  3.8970e-01,\n",
              "          -4.8622e-02,  2.7674e-02, -2.8218e-01,  3.6913e-02,  3.3429e-01,\n",
              "          -6.4682e-02,  6.2175e-02, -1.3228e-02,  5.7958e-02,  1.6870e-02,\n",
              "          -4.1571e-01,  6.0329e-02, -3.0647e-01,  3.2256e-01,  2.1553e-01,\n",
              "          -6.2330e-02, -8.5673e-02, -1.5413e-01,  2.4609e-01,  8.4924e-02,\n",
              "           6.0758e-02, -3.3525e-01,  1.5421e-01, -6.0629e-02,  2.1154e-01],\n",
              "         [-3.0992e-02, -6.8543e-02,  6.4682e-02,  1.0164e-01,  2.3068e-01,\n",
              "           3.9563e-01, -2.1647e-01,  1.3601e-01, -1.4922e-01, -8.3753e-02,\n",
              "           2.3184e-01,  1.3881e-01, -1.0418e-01,  1.5307e-01, -2.1335e-03,\n",
              "           1.8844e-01,  6.6354e-02,  2.5643e-01, -2.6977e-01, -1.4194e-01,\n",
              "           5.1166e-02, -2.3150e-01,  4.8107e-03, -2.0131e-02, -6.7015e-02,\n",
              "          -1.3077e-01,  2.8292e-01, -1.5738e-01,  1.5888e-01, -1.3781e-01],\n",
              "         [-5.5803e-03,  4.8252e-02,  3.0559e-01, -1.1617e-01, -1.7921e-01,\n",
              "          -5.0361e-01, -5.8687e-02, -2.3405e-02,  2.6280e-01,  1.4587e-02,\n",
              "          -1.0225e-01, -2.2434e-01,  6.0330e-02,  1.1127e-01, -1.0755e-03,\n",
              "          -2.6816e-02,  9.3049e-03, -9.6847e-03, -1.9776e-03, -5.7747e-03,\n",
              "           1.2300e-01, -4.0153e-02,  2.0269e-01, -1.0597e-01, -3.0056e-01,\n",
              "           1.0205e-01,  1.3572e-01, -1.9085e-01, -2.8417e-01, -2.0500e-02],\n",
              "         [-2.9535e-01, -2.6458e-02, -1.4129e-01, -1.7204e-01,  3.5079e-01,\n",
              "           2.2173e-02, -3.4215e-02, -6.6933e-02, -1.0048e-02, -5.1505e-02,\n",
              "          -8.5654e-02, -1.2070e-01,  7.1267e-02,  1.0971e-01,  3.3154e-03,\n",
              "          -1.4533e-02, -1.1028e-01,  1.1553e-02, -2.5554e-01,  1.0909e-02,\n",
              "          -2.1135e-01,  6.9367e-02, -2.9201e-01,  1.0754e-01, -3.6166e-02,\n",
              "          -3.1697e-01,  3.0249e-02,  6.3027e-02, -2.8905e-02,  1.7534e-01],\n",
              "         [ 8.2238e-02, -1.6233e-01, -3.7079e-01, -3.3435e-02,  4.1712e-01,\n",
              "           1.5651e-01, -4.3490e-01, -9.1220e-02,  2.4977e-02,  3.0911e-01,\n",
              "           1.4537e-01, -2.7514e-02,  1.0931e-01,  4.7103e-02,  4.9525e-03,\n",
              "          -1.3341e-01,  3.2587e-02, -2.2524e-01,  4.5153e-01, -4.0555e-02,\n",
              "          -3.5401e-01, -4.4880e-02, -2.8238e-01,  2.1110e-01, -7.7363e-02,\n",
              "           1.8703e-01, -2.6916e-02,  1.3752e-01,  1.1840e-01,  1.7075e-01],\n",
              "         [-1.3586e-02,  1.4930e-01,  2.9973e-01,  2.0006e-02, -2.8629e-01,\n",
              "          -1.9737e-01, -1.0076e-01,  1.7936e-01,  6.1860e-02,  1.8880e-01,\n",
              "           1.2871e-01, -2.0118e-01,  1.5358e-01, -2.5786e-01, -1.0200e-02,\n",
              "           1.1254e-01,  1.6310e-01,  1.0884e-01,  1.2736e-01, -2.8312e-01,\n",
              "           1.8397e-01, -1.4633e-01,  3.1533e-01, -8.8381e-02,  1.0477e-01,\n",
              "           1.1442e-03, -1.7823e-03,  7.4992e-02,  4.9341e-02, -2.2117e-01],\n",
              "         [-1.3448e-01, -1.4503e-02,  4.4683e-02,  1.4589e-02, -3.8749e-02,\n",
              "          -1.8244e-01, -1.1905e-01, -1.3143e-01,  2.5857e-01, -1.3674e-01,\n",
              "          -1.4524e-01,  5.0685e-02, -1.0490e-01,  1.8903e-01, -3.0836e-03,\n",
              "           7.5709e-02, -9.0228e-02, -4.2337e-01, -2.9263e-01,  9.3507e-04,\n",
              "          -2.1877e-01, -5.5554e-02,  5.3094e-02,  1.2103e-01,  3.4443e-01,\n",
              "          -8.4888e-02,  3.3674e-01,  2.1285e-01, -8.5622e-02, -2.2355e-02],\n",
              "         [ 6.8940e-02, -2.2307e-02,  1.1887e-01,  1.3783e-01, -4.6093e-02,\n",
              "           2.0433e-01, -1.2973e-01,  2.6780e-01,  2.9664e-01, -1.5096e-01,\n",
              "           5.9294e-02,  8.6335e-02, -6.0052e-03, -3.4167e-01, -2.3727e-02,\n",
              "           4.1686e-01, -1.8118e-02,  3.8350e-01, -2.4530e-01, -2.8770e-01,\n",
              "           1.8414e-01, -8.3993e-02,  2.7864e-01, -1.6260e-01, -1.9909e-01,\n",
              "           2.4169e-01,  1.1575e-01,  8.7325e-02,  1.1797e-01, -5.0737e-01],\n",
              "         [ 1.2054e-01,  1.0988e-01, -2.7913e-01, -7.3077e-02,  1.0882e-01,\n",
              "           1.9705e-01,  2.9209e-01, -7.3331e-02, -2.3555e-01, -2.3132e-01,\n",
              "           6.8379e-02, -5.4750e-02,  1.0406e-01,  9.8380e-02,  1.2968e-03,\n",
              "          -9.8398e-02, -1.9477e-02, -4.3453e-03, -3.4878e-01,  2.3339e-01,\n",
              "           7.1124e-02,  2.1721e-01, -2.9511e-02,  5.2606e-02, -6.7344e-02,\n",
              "           5.3991e-02, -1.4011e-01, -3.4504e-01,  5.1558e-02,  3.4836e-01],\n",
              "         [ 9.2650e-02, -1.3883e-01, -1.1584e-01,  1.4215e-02,  3.7900e-02,\n",
              "           5.4810e-02, -8.9151e-02,  8.9060e-02, -4.3293e-02, -2.3464e-01,\n",
              "           1.6832e-01, -1.0686e-01, -1.5766e-01,  1.3202e-01,  1.0350e-03,\n",
              "           1.2950e-02,  1.8852e-01, -1.5117e-01,  2.9578e-01,  3.5025e-03,\n",
              "           1.3409e-01, -5.3980e-02, -9.8557e-02,  1.3982e-01, -1.1736e-01,\n",
              "          -7.2217e-02, -1.2995e-01,  9.7137e-02,  2.1301e-01, -1.2886e-02],\n",
              "         [ 6.0851e-02, -1.5191e-02,  4.8298e-02, -1.1739e-01, -7.5779e-25,\n",
              "           2.4215e-33, -2.4297e-39,  1.8041e-39, -1.5537e-03, -4.8347e-40,\n",
              "          -6.4614e-08, -1.8646e-02, -2.1174e-02, -3.3368e-02, -2.1594e-39,\n",
              "          -2.7229e-39, -1.1782e-39, -4.0953e-39,  3.5961e-40, -3.3679e-39,\n",
              "           7.1525e-02,  8.6380e-02, -9.2781e-02, -1.5778e-01, -1.4902e-02,\n",
              "          -2.4847e-15,  4.1063e-12,  5.8375e-39, -1.6210e-08, -3.4957e-39],\n",
              "         [-2.6297e-10, -1.8434e-08, -1.4696e-03, -1.3531e-02,  5.0866e-40,\n",
              "          -1.9245e-03, -4.6949e-03, -4.5472e-04, -4.2824e-06, -5.4667e-39,\n",
              "          -1.9537e-39, -1.7718e-02, -2.0741e-02, -4.1976e-07, -1.7603e-39,\n",
              "           5.5772e-41,  3.4232e-39,  2.5412e-39, -4.8069e-39,  3.6750e-39,\n",
              "          -9.7882e-10, -3.4769e-07, -1.8593e-03, -8.6211e-03, -4.2478e-04,\n",
              "           6.7908e-03, -1.4058e-02, -1.8305e-39,  8.7097e-03,  4.4640e-39]],\n",
              "        requires_grad=True), Parameter containing:\n",
              " tensor([ 1.2063e-03,  2.5809e-01, -2.4540e-01, -2.5360e-01, -7.0851e-01,\n",
              "          9.8955e-02,  1.8752e-01, -2.8690e-01, -3.5892e-01,  4.5584e-01,\n",
              "         -2.6073e-01,  4.3705e-01, -3.3494e-01, -5.7284e-02, -1.2279e-04,\n",
              "          2.8179e-39], requires_grad=True), Parameter containing:\n",
              " tensor([[-1.0180e-02, -3.5707e-02, -1.4229e-02,  6.9027e-02, -9.6621e-02,\n",
              "          -3.6212e-03, -2.6505e-02,  5.6236e-39, -1.6650e-01, -2.0976e-01,\n",
              "          -2.0268e-01,  8.1316e-02,  1.6444e-01,  1.9561e-01,  3.6798e-02,\n",
              "          -2.1995e-39],\n",
              "         [ 8.5163e-02, -2.0376e-01,  6.0441e-02, -2.5478e-02,  9.9958e-03,\n",
              "           1.7419e-01,  5.4474e-39, -1.0806e-39,  4.5524e-02, -2.9041e-01,\n",
              "          -7.3151e-02, -7.1584e-02, -1.8021e-01,  2.5515e-01,  2.2949e-39,\n",
              "           1.5469e-03],\n",
              "         [ 1.9993e-01, -3.2452e-02,  1.4350e-01,  1.5423e-01,  3.1699e-01,\n",
              "          -7.7288e-02, -3.8867e-02, -5.8232e-02,  2.4476e-01,  3.2860e-02,\n",
              "           2.3330e-03, -3.7159e-02,  2.2490e-01,  8.2198e-02,  6.8216e-02,\n",
              "          -2.0524e-02],\n",
              "         [-5.4415e-02,  5.8302e-02,  5.7639e-02, -2.0169e-01,  1.5670e-04,\n",
              "          -4.2029e-03,  1.8997e-02, -8.4049e-02,  1.9081e-01,  1.0212e-01,\n",
              "          -3.2437e-01,  3.0850e-01,  1.5855e-01,  1.3593e-01,  9.0303e-02,\n",
              "           2.1481e-02],\n",
              "         [-4.7308e-02,  6.3083e-02, -1.2139e-01, -2.7586e-01, -8.5625e-02,\n",
              "          -1.3752e-01,  8.5630e-02,  1.7715e-01,  1.5350e-02,  2.4821e-02,\n",
              "          -2.5995e-01,  1.3829e-01, -8.2627e-02, -1.1820e-01, -1.3062e-01,\n",
              "          -6.3981e-07],\n",
              "         [ 1.0346e-01, -4.2395e-02, -3.9039e-02, -2.2784e-02, -2.1852e-01,\n",
              "          -1.2910e-01, -4.3356e-02,  1.0583e-01,  1.0407e-02,  4.7346e-02,\n",
              "           7.9319e-03,  1.4540e-01, -2.0612e-01, -8.1075e-03,  3.4149e-02,\n",
              "           2.1246e-39],\n",
              "         [-1.3043e-01, -4.3104e-02,  4.3419e-02, -3.0355e-02,  1.7035e-01,\n",
              "           1.5316e-01,  5.1390e-02, -1.3496e-01, -1.3469e-01, -2.7748e-01,\n",
              "           8.6292e-02, -2.0552e-02,  2.0127e-01,  2.2979e-01,  5.4398e-02,\n",
              "           1.5722e-03],\n",
              "         [ 6.0990e-02, -1.9953e-01, -2.6008e-01, -3.8791e-02, -3.2009e-01,\n",
              "           1.1006e-01, -2.3628e-01, -2.0024e-01, -5.1639e-02,  1.7231e-01,\n",
              "           8.5405e-02,  7.8602e-02, -4.4557e-02, -2.0270e-01,  1.5951e-39,\n",
              "          -1.3009e-02],\n",
              "         [-1.1458e-01,  2.0999e-01, -1.7746e-01, -8.5915e-02,  1.8962e-01,\n",
              "           1.5761e-01,  1.0532e-01,  5.5563e-03, -6.4348e-02, -1.0625e-01,\n",
              "           1.0497e-01,  1.4400e-01, -5.4385e-02,  2.0358e-01, -9.6748e-02,\n",
              "          -9.5170e-04],\n",
              "         [ 2.0875e-01,  1.2371e-01, -1.4564e-01,  9.8059e-02, -9.8221e-02,\n",
              "           4.0383e-02,  1.7811e-01, -2.4073e-01, -1.2131e-01,  2.0307e-01,\n",
              "          -2.1476e-01, -7.8487e-03, -1.0334e-01, -4.6838e-02,  9.1741e-03,\n",
              "          -1.6774e-02],\n",
              "         [ 1.3432e-01, -8.1321e-02,  3.9808e-03, -4.1680e-01, -2.1655e-01,\n",
              "          -1.2077e-03,  1.4314e-02, -1.5071e-02, -2.3437e-02, -3.2834e-02,\n",
              "           1.6878e-01,  2.7733e-02,  2.1046e-01,  1.5481e-01,  2.1194e-02,\n",
              "           1.3663e-02],\n",
              "         [ 1.3171e-01, -5.6279e-03, -1.5410e-01,  1.3381e-01, -1.4839e-02,\n",
              "           2.0324e-01, -2.0028e-39, -6.1932e-39, -2.5615e-01, -9.0732e-02,\n",
              "          -5.3509e-02,  2.1233e-01, -9.2518e-02, -1.5957e-01,  9.0587e-03,\n",
              "          -1.7210e-39],\n",
              "         [ 5.1088e-02, -6.6203e-02,  5.3851e-02, -1.5514e-01, -1.3704e-01,\n",
              "          -2.8661e-01,  7.6899e-02,  6.8126e-02,  1.9020e-01, -6.8497e-02,\n",
              "           2.2236e-01,  9.8789e-02,  5.6760e-02, -1.4293e-01, -1.9483e-02,\n",
              "          -1.8110e-02],\n",
              "         [-1.1852e-01,  2.3357e-01,  6.1680e-02, -6.3070e-02, -1.8238e-01,\n",
              "           8.1104e-02, -1.6165e-01, -5.7387e-03, -1.0669e-01,  1.9607e-02,\n",
              "           4.7524e-02,  7.7872e-02, -1.9020e-02,  4.5984e-02, -5.4169e-02,\n",
              "           4.9615e-39],\n",
              "         [-1.2092e-02,  2.3498e-01,  1.6148e-01, -4.2909e-02, -1.5528e-01,\n",
              "          -5.3126e-02, -1.2190e-01,  8.1051e-40, -2.0415e-01, -8.2812e-02,\n",
              "           1.8642e-01,  6.8986e-02, -8.7844e-02, -2.2879e-01,  5.2908e-02,\n",
              "          -1.8276e-39],\n",
              "         [-5.5536e-39, -1.2758e-12,  8.2786e-40, -2.0461e-11, -9.1153e-04,\n",
              "          -5.5973e-10, -1.0279e-39, -1.2178e-31, -8.4025e-03, -2.4803e-03,\n",
              "          -3.9446e-32, -1.9565e-04, -4.4983e-03, -2.3628e-40, -5.0867e-39,\n",
              "          -2.7407e-39]], requires_grad=True), Parameter containing:\n",
              " tensor([-5.9550e-02, -1.8615e-01, -7.8367e-01,  4.7147e-01,  1.5813e-03,\n",
              "         -1.7486e-02, -1.2686e-01, -2.0199e-01,  1.2992e-01,  5.8393e-01,\n",
              "          2.9905e-01,  3.4238e-02, -5.2297e-01,  3.4999e-01,  2.8227e-01,\n",
              "          1.8150e-39], requires_grad=True), Parameter containing:\n",
              " tensor([[-0.1073, -0.1372, -0.1057,  0.1397,  0.0038, -0.0597, -0.1889, -0.0507,\n",
              "           0.1435,  0.2508,  0.0783,  0.1772, -0.0553,  0.1876,  0.1261,  0.0045]],\n",
              "        requires_grad=True), Parameter containing:\n",
              " tensor([0.6800], requires_grad=True)]"
            ]
          },
          "metadata": {
            "tags": []
          },
          "execution_count": 67
        }
      ]
    },
    {
      "cell_type": "code",
      "metadata": {
        "id": "7yA2C_FSr3aR",
        "colab_type": "code",
        "colab": {
          "base_uri": "https://localhost:8080/",
          "height": 34
        },
        "outputId": "fa08e9d6-f013-43ea-db80-ea187a364520"
      },
      "source": [
        "pesos0 = params[0]\n",
        "pesos0.shape"
      ],
      "execution_count": null,
      "outputs": [
        {
          "output_type": "execute_result",
          "data": {
            "text/plain": [
              "torch.Size([16, 30])"
            ]
          },
          "metadata": {
            "tags": []
          },
          "execution_count": 69
        }
      ]
    },
    {
      "cell_type": "code",
      "metadata": {
        "id": "A2SidNOcsBhY",
        "colab_type": "code",
        "colab": {
          "base_uri": "https://localhost:8080/",
          "height": 34
        },
        "outputId": "52af8636-049e-45c3-b86b-acb488b49402"
      },
      "source": [
        "bias0 = params[1]\n",
        "bias0.shape"
      ],
      "execution_count": null,
      "outputs": [
        {
          "output_type": "execute_result",
          "data": {
            "text/plain": [
              "torch.Size([16])"
            ]
          },
          "metadata": {
            "tags": []
          },
          "execution_count": 70
        }
      ]
    },
    {
      "cell_type": "code",
      "metadata": {
        "id": "msxn-LQpsPMq",
        "colab_type": "code",
        "colab": {
          "base_uri": "https://localhost:8080/",
          "height": 34
        },
        "outputId": "69897175-5442-4bda-aa82-94a2dc7e7a5f"
      },
      "source": [
        "pesos1 = params[2]\n",
        "pesos1.shape"
      ],
      "execution_count": null,
      "outputs": [
        {
          "output_type": "execute_result",
          "data": {
            "text/plain": [
              "torch.Size([16, 16])"
            ]
          },
          "metadata": {
            "tags": []
          },
          "execution_count": 72
        }
      ]
    },
    {
      "cell_type": "code",
      "metadata": {
        "id": "zqlN8akbsV33",
        "colab_type": "code",
        "colab": {
          "base_uri": "https://localhost:8080/",
          "height": 34
        },
        "outputId": "2b92d9c1-de68-4164-be25-3b26c0304987"
      },
      "source": [
        "bias1 = params[3]\n",
        "bias1.shape"
      ],
      "execution_count": null,
      "outputs": [
        {
          "output_type": "execute_result",
          "data": {
            "text/plain": [
              "torch.Size([16])"
            ]
          },
          "metadata": {
            "tags": []
          },
          "execution_count": 74
        }
      ]
    },
    {
      "cell_type": "code",
      "metadata": {
        "id": "DhhqELT8sZ8d",
        "colab_type": "code",
        "colab": {}
      },
      "source": [
        ""
      ],
      "execution_count": null,
      "outputs": []
    },
    {
      "cell_type": "markdown",
      "metadata": {
        "id": "Ipds5Svtsdte",
        "colab_type": "text"
      },
      "source": [
        "# Avaliação do Modelo "
      ]
    },
    {
      "cell_type": "code",
      "metadata": {
        "id": "44mP6EFDsf9p",
        "colab_type": "code",
        "colab": {
          "base_uri": "https://localhost:8080/",
          "height": 156
        },
        "outputId": "3a4090d6-ed51-41e6-d4b3-49d8e44bf6e7"
      },
      "source": [
        "clf.eval()"
      ],
      "execution_count": null,
      "outputs": [
        {
          "output_type": "execute_result",
          "data": {
            "text/plain": [
              "Sequential(\n",
              "  (0): Linear(in_features=30, out_features=16, bias=True)\n",
              "  (1): ReLU()\n",
              "  (2): Linear(in_features=16, out_features=16, bias=True)\n",
              "  (3): ReLU()\n",
              "  (4): Linear(in_features=16, out_features=1, bias=True)\n",
              "  (5): Sigmoid()\n",
              ")"
            ]
          },
          "metadata": {
            "tags": []
          },
          "execution_count": 75
        }
      ]
    },
    {
      "cell_type": "code",
      "metadata": {
        "id": "xnAEQilmslw0",
        "colab_type": "code",
        "colab": {
          "base_uri": "https://localhost:8080/",
          "height": 34
        },
        "outputId": "fba1fe73-bf99-4fcb-c953-5237d23bc57a"
      },
      "source": [
        "type(previsores_test)"
      ],
      "execution_count": null,
      "outputs": [
        {
          "output_type": "execute_result",
          "data": {
            "text/plain": [
              "pandas.core.frame.DataFrame"
            ]
          },
          "metadata": {
            "tags": []
          },
          "execution_count": 76
        }
      ]
    },
    {
      "cell_type": "code",
      "metadata": {
        "id": "2g-vilPssuWA",
        "colab_type": "code",
        "colab": {}
      },
      "source": [
        "previsores_test = torch.tensor(np.array(previsores_test), dtype=torch.float)"
      ],
      "execution_count": null,
      "outputs": []
    },
    {
      "cell_type": "code",
      "metadata": {
        "id": "YlkKutJHs9QP",
        "colab_type": "code",
        "colab": {
          "base_uri": "https://localhost:8080/",
          "height": 34
        },
        "outputId": "91d2a25e-51a4-446a-f03d-7a87c63ea10f"
      },
      "source": [
        "type(previsores_test)"
      ],
      "execution_count": null,
      "outputs": [
        {
          "output_type": "execute_result",
          "data": {
            "text/plain": [
              "torch.Tensor"
            ]
          },
          "metadata": {
            "tags": []
          },
          "execution_count": 79
        }
      ]
    },
    {
      "cell_type": "code",
      "metadata": {
        "id": "RjgS3Z5is_R5",
        "colab_type": "code",
        "colab": {}
      },
      "source": [
        "predict = clf.forward(previsores_test)"
      ],
      "execution_count": null,
      "outputs": []
    },
    {
      "cell_type": "code",
      "metadata": {
        "id": "8KWiMEDMtKbZ",
        "colab_type": "code",
        "colab": {
          "base_uri": "https://localhost:8080/",
          "height": 1000
        },
        "outputId": "3c2bf62d-28ba-4c14-f306-b9264f6361b3"
      },
      "source": [
        "predict"
      ],
      "execution_count": null,
      "outputs": [
        {
          "output_type": "execute_result",
          "data": {
            "text/plain": [
              "tensor([[9.7313e-01],\n",
              "        [1.0000e+00],\n",
              "        [2.6672e-02],\n",
              "        [8.0721e-01],\n",
              "        [3.9008e-05],\n",
              "        [6.5157e-01],\n",
              "        [8.8227e-01],\n",
              "        [9.9923e-01],\n",
              "        [3.5880e-01],\n",
              "        [1.1970e-01],\n",
              "        [9.0122e-01],\n",
              "        [8.7216e-01],\n",
              "        [1.0000e+00],\n",
              "        [9.7382e-01],\n",
              "        [9.9977e-01],\n",
              "        [5.2286e-01],\n",
              "        [9.6939e-01],\n",
              "        [1.0000e+00],\n",
              "        [3.4145e-01],\n",
              "        [9.9700e-01],\n",
              "        [2.6061e-12],\n",
              "        [3.9617e-03],\n",
              "        [3.8081e-01],\n",
              "        [1.0000e+00],\n",
              "        [6.1940e-01],\n",
              "        [9.9116e-04],\n",
              "        [2.2899e-01],\n",
              "        [9.9998e-01],\n",
              "        [2.4937e-05],\n",
              "        [9.8937e-01],\n",
              "        [1.1592e-01],\n",
              "        [9.9985e-01],\n",
              "        [7.2981e-01],\n",
              "        [9.0123e-01],\n",
              "        [8.2356e-02],\n",
              "        [9.8649e-01],\n",
              "        [8.4844e-02],\n",
              "        [9.9817e-01],\n",
              "        [9.9638e-01],\n",
              "        [1.6611e-05],\n",
              "        [2.5326e-03],\n",
              "        [8.5689e-01],\n",
              "        [1.8602e-06],\n",
              "        [2.9908e-01],\n",
              "        [2.1793e-05],\n",
              "        [5.7332e-01],\n",
              "        [4.6373e-05],\n",
              "        [1.1376e-33],\n",
              "        [4.5176e-01],\n",
              "        [3.9468e-03],\n",
              "        [9.6202e-01],\n",
              "        [2.4040e-17],\n",
              "        [8.2378e-01],\n",
              "        [9.7309e-01],\n",
              "        [9.6565e-01],\n",
              "        [1.7079e-01],\n",
              "        [9.9991e-01],\n",
              "        [5.5009e-08],\n",
              "        [6.5006e-09],\n",
              "        [9.9581e-01],\n",
              "        [1.9423e-05],\n",
              "        [9.8986e-01],\n",
              "        [9.6954e-01],\n",
              "        [9.9000e-01],\n",
              "        [5.4738e-01],\n",
              "        [5.5227e-09],\n",
              "        [1.0000e+00],\n",
              "        [1.0000e+00],\n",
              "        [1.0000e+00],\n",
              "        [2.8001e-01],\n",
              "        [1.0000e+00],\n",
              "        [9.2718e-01],\n",
              "        [1.9621e-02],\n",
              "        [8.0476e-01],\n",
              "        [6.2615e-04],\n",
              "        [9.9967e-01],\n",
              "        [8.3615e-01],\n",
              "        [1.3488e-12],\n",
              "        [1.0008e-05],\n",
              "        [8.6824e-02],\n",
              "        [6.4993e-01],\n",
              "        [2.4385e-06],\n",
              "        [4.7123e-07],\n",
              "        [9.6294e-01],\n",
              "        [1.0000e+00],\n",
              "        [1.0000e+00],\n",
              "        [6.3600e-02],\n",
              "        [9.7867e-01],\n",
              "        [8.5856e-04],\n",
              "        [5.8806e-01],\n",
              "        [1.9784e-03],\n",
              "        [9.4126e-01],\n",
              "        [9.7700e-01],\n",
              "        [4.3207e-04],\n",
              "        [9.7804e-01],\n",
              "        [9.9949e-01],\n",
              "        [9.9147e-01],\n",
              "        [9.7420e-01],\n",
              "        [5.7271e-03],\n",
              "        [1.0000e+00],\n",
              "        [9.9720e-01],\n",
              "        [1.0000e+00],\n",
              "        [9.8492e-01],\n",
              "        [9.7443e-01],\n",
              "        [8.3764e-01],\n",
              "        [1.0000e+00],\n",
              "        [1.0000e+00],\n",
              "        [9.8552e-01],\n",
              "        [1.0000e+00],\n",
              "        [9.8103e-01],\n",
              "        [1.0000e+00],\n",
              "        [9.9987e-01],\n",
              "        [5.4467e-01],\n",
              "        [2.5397e-06],\n",
              "        [8.0435e-01],\n",
              "        [6.6137e-05],\n",
              "        [9.8991e-01],\n",
              "        [9.6229e-05],\n",
              "        [9.8940e-01],\n",
              "        [9.6000e-01],\n",
              "        [8.7356e-01],\n",
              "        [5.8334e-01],\n",
              "        [9.9959e-01],\n",
              "        [9.9974e-01],\n",
              "        [7.0220e-08],\n",
              "        [9.6056e-01],\n",
              "        [3.9913e-05],\n",
              "        [1.9850e-01],\n",
              "        [9.9806e-01],\n",
              "        [9.5086e-01],\n",
              "        [2.7826e-09],\n",
              "        [8.7871e-01],\n",
              "        [1.0000e+00],\n",
              "        [1.4847e-02],\n",
              "        [2.5693e-05],\n",
              "        [9.4057e-01],\n",
              "        [9.2982e-01],\n",
              "        [9.9992e-01],\n",
              "        [4.1604e-02],\n",
              "        [1.1629e-05],\n",
              "        [3.6059e-06],\n",
              "        [9.4192e-01],\n",
              "        [1.6352e-12]], grad_fn=<SigmoidBackward>)"
            ]
          },
          "metadata": {
            "tags": []
          },
          "execution_count": 81
        }
      ]
    },
    {
      "cell_type": "code",
      "metadata": {
        "id": "r7tEXfC_tLh-",
        "colab_type": "code",
        "colab": {
          "base_uri": "https://localhost:8080/",
          "height": 1000
        },
        "outputId": "b1cd7f12-a2f3-44c2-bf0a-1e2b52dc5866"
      },
      "source": [
        "predict = np.array(predict > 0.5 )\n",
        "print(predict)"
      ],
      "execution_count": null,
      "outputs": [
        {
          "output_type": "stream",
          "text": [
            "[[ True]\n",
            " [ True]\n",
            " [False]\n",
            " [ True]\n",
            " [False]\n",
            " [ True]\n",
            " [ True]\n",
            " [ True]\n",
            " [False]\n",
            " [False]\n",
            " [ True]\n",
            " [ True]\n",
            " [ True]\n",
            " [ True]\n",
            " [ True]\n",
            " [ True]\n",
            " [ True]\n",
            " [ True]\n",
            " [False]\n",
            " [ True]\n",
            " [False]\n",
            " [False]\n",
            " [False]\n",
            " [ True]\n",
            " [ True]\n",
            " [False]\n",
            " [False]\n",
            " [ True]\n",
            " [False]\n",
            " [ True]\n",
            " [False]\n",
            " [ True]\n",
            " [ True]\n",
            " [ True]\n",
            " [False]\n",
            " [ True]\n",
            " [False]\n",
            " [ True]\n",
            " [ True]\n",
            " [False]\n",
            " [False]\n",
            " [ True]\n",
            " [False]\n",
            " [False]\n",
            " [False]\n",
            " [ True]\n",
            " [False]\n",
            " [False]\n",
            " [False]\n",
            " [False]\n",
            " [ True]\n",
            " [False]\n",
            " [ True]\n",
            " [ True]\n",
            " [ True]\n",
            " [False]\n",
            " [ True]\n",
            " [False]\n",
            " [False]\n",
            " [ True]\n",
            " [False]\n",
            " [ True]\n",
            " [ True]\n",
            " [ True]\n",
            " [ True]\n",
            " [False]\n",
            " [ True]\n",
            " [ True]\n",
            " [ True]\n",
            " [False]\n",
            " [ True]\n",
            " [ True]\n",
            " [False]\n",
            " [ True]\n",
            " [False]\n",
            " [ True]\n",
            " [ True]\n",
            " [False]\n",
            " [False]\n",
            " [False]\n",
            " [ True]\n",
            " [False]\n",
            " [False]\n",
            " [ True]\n",
            " [ True]\n",
            " [ True]\n",
            " [False]\n",
            " [ True]\n",
            " [False]\n",
            " [ True]\n",
            " [False]\n",
            " [ True]\n",
            " [ True]\n",
            " [False]\n",
            " [ True]\n",
            " [ True]\n",
            " [ True]\n",
            " [ True]\n",
            " [False]\n",
            " [ True]\n",
            " [ True]\n",
            " [ True]\n",
            " [ True]\n",
            " [ True]\n",
            " [ True]\n",
            " [ True]\n",
            " [ True]\n",
            " [ True]\n",
            " [ True]\n",
            " [ True]\n",
            " [ True]\n",
            " [ True]\n",
            " [ True]\n",
            " [False]\n",
            " [ True]\n",
            " [False]\n",
            " [ True]\n",
            " [False]\n",
            " [ True]\n",
            " [ True]\n",
            " [ True]\n",
            " [ True]\n",
            " [ True]\n",
            " [ True]\n",
            " [False]\n",
            " [ True]\n",
            " [False]\n",
            " [False]\n",
            " [ True]\n",
            " [ True]\n",
            " [False]\n",
            " [ True]\n",
            " [ True]\n",
            " [False]\n",
            " [False]\n",
            " [ True]\n",
            " [ True]\n",
            " [ True]\n",
            " [False]\n",
            " [False]\n",
            " [False]\n",
            " [ True]\n",
            " [False]]\n"
          ],
          "name": "stdout"
        }
      ]
    },
    {
      "cell_type": "code",
      "metadata": {
        "id": "6LC3lsrztr9T",
        "colab_type": "code",
        "colab": {
          "base_uri": "https://localhost:8080/",
          "height": 206
        },
        "outputId": "4af0f317-6fbc-4314-b316-0d3806eedc1b"
      },
      "source": [
        "classe_test.head()"
      ],
      "execution_count": null,
      "outputs": [
        {
          "output_type": "execute_result",
          "data": {
            "text/html": [
              "<div>\n",
              "<style scoped>\n",
              "    .dataframe tbody tr th:only-of-type {\n",
              "        vertical-align: middle;\n",
              "    }\n",
              "\n",
              "    .dataframe tbody tr th {\n",
              "        vertical-align: top;\n",
              "    }\n",
              "\n",
              "    .dataframe thead th {\n",
              "        text-align: right;\n",
              "    }\n",
              "</style>\n",
              "<table border=\"1\" class=\"dataframe\">\n",
              "  <thead>\n",
              "    <tr style=\"text-align: right;\">\n",
              "      <th></th>\n",
              "      <th>0</th>\n",
              "    </tr>\n",
              "  </thead>\n",
              "  <tbody>\n",
              "    <tr>\n",
              "      <th>333</th>\n",
              "      <td>1</td>\n",
              "    </tr>\n",
              "    <tr>\n",
              "      <th>273</th>\n",
              "      <td>1</td>\n",
              "    </tr>\n",
              "    <tr>\n",
              "      <th>201</th>\n",
              "      <td>0</td>\n",
              "    </tr>\n",
              "    <tr>\n",
              "      <th>178</th>\n",
              "      <td>1</td>\n",
              "    </tr>\n",
              "    <tr>\n",
              "      <th>85</th>\n",
              "      <td>0</td>\n",
              "    </tr>\n",
              "  </tbody>\n",
              "</table>\n",
              "</div>"
            ],
            "text/plain": [
              "     0\n",
              "333  1\n",
              "273  1\n",
              "201  0\n",
              "178  1\n",
              "85   0"
            ]
          },
          "metadata": {
            "tags": []
          },
          "execution_count": 83
        }
      ]
    },
    {
      "cell_type": "code",
      "metadata": {
        "id": "B_DbFVUBthyT",
        "colab_type": "code",
        "colab": {
          "base_uri": "https://localhost:8080/",
          "height": 34
        },
        "outputId": "7ca4e5d8-08c7-4965-c399-66de0987b419"
      },
      "source": [
        "taxa_acerto = accuracy_score(classe_test, predict)\n",
        "print(taxa_acerto)"
      ],
      "execution_count": null,
      "outputs": [
        {
          "output_type": "stream",
          "text": [
            "0.9090909090909091\n"
          ],
          "name": "stdout"
        }
      ]
    },
    {
      "cell_type": "code",
      "metadata": {
        "id": "IV2_crqJt0gL",
        "colab_type": "code",
        "colab": {
          "base_uri": "https://localhost:8080/",
          "height": 52
        },
        "outputId": "8c56a500-1ada-40b6-cab8-7e8649723de7"
      },
      "source": [
        "matriz = confusion_matrix(classe_test, predict)\n",
        "print(matriz)"
      ],
      "execution_count": null,
      "outputs": [
        {
          "output_type": "stream",
          "text": [
            "[[48  6]\n",
            " [ 7 82]]\n"
          ],
          "name": "stdout"
        }
      ]
    },
    {
      "cell_type": "code",
      "metadata": {
        "id": "coGo4v5UuANZ",
        "colab_type": "code",
        "colab": {
          "base_uri": "https://localhost:8080/",
          "height": 265
        },
        "outputId": "6b35bb2e-5fb5-43f0-b77f-7e8cadd4dfca"
      },
      "source": [
        "sns.heatmap(matriz, annot=True);"
      ],
      "execution_count": null,
      "outputs": [
        {
          "output_type": "display_data",
          "data": {
            "image/png": "[encoded data removed]",
            "text/plain": [
              "<Figure size 432x288 with 2 Axes>"
            ]
          },
          "metadata": {
            "tags": [],
            "needs_background": "light"
          }
        }
      ]
    },
    {
      "cell_type": "code",
      "metadata": {
        "id": "dHJf7uMWt-8P",
        "colab_type": "code",
        "colab": {}
      },
      "source": [
        ""
      ],
      "execution_count": null,
      "outputs": []
    }
  ]
}